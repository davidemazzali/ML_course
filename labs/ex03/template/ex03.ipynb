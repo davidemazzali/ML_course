{
 "cells": [
  {
   "cell_type": "markdown",
   "metadata": {},
   "source": [
    "### Import python files from another directory\n",
    "In order to reuse code written in .py files you need to import them. <br/>\n",
    "If they are from a distant folder, rather than copy-paste it into the current folder, you can write:"
   ]
  },
  {
   "cell_type": "code",
<<<<<<< HEAD
   "execution_count": 52,
   "metadata": {
    "tags": []
   },
   "outputs": [
    {
     "name": "stdout",
     "output_type": "stream",
     "text": [
      "The autoreload extension is already loaded. To reload it, use:\n",
      "  %reload_ext autoreload\n"
     ]
    }
   ],
=======
   "execution_count": null,
   "metadata": {},
   "outputs": [],
   "source": [
    "import sys\n",
    "sys.path.append(\"../../ex02/template\") # This goes up twice in the directories tree (hence in labs)\n",
    "                                       # then goes down to ex02/template where your files from lab 2 are."
   ]
  },
  {
   "cell_type": "markdown",
   "metadata": {},
   "source": [
    "you can now import your desired files, for example, we can import grid_search.py with:"
   ]
  },
  {
   "cell_type": "code",
   "execution_count": null,
   "metadata": {},
   "outputs": [],
   "source": [
    "import grid_search        # You then need to call your functions using grid_search.function_name()\n",
    "import grid_search as gs  # You then need to call your functions using gs.function_name()\n",
    "from grid_search import * # You can call any functions of the file with function_name()\n",
    "\n",
    "# Let's try to call generate_w from grid_search.py:\n",
    "w0, w1 = generate_w(5)\n",
    "print(w0, w1)"
   ]
  },
  {
   "cell_type": "markdown",
   "metadata": {},
   "source": [
    "As you can see we are now able to call functions from the grid_search.py file."
   ]
  },
  {
   "cell_type": "code",
   "execution_count": null,
   "metadata": {},
   "outputs": [],
>>>>>>> e9f33c29954c1c6f205c4664331ef2ddcecad5ff
   "source": [
    "# Useful starting lines\n",
    "%matplotlib inline\n",
    "import numpy as np\n",
    "import matplotlib.pyplot as plt\n",
    "%load_ext autoreload\n",
    "%autoreload 2\n",
    "\n",
    "import costs"
   ]
  },
  {
   "cell_type": "markdown",
   "metadata": {},
   "source": [
    "# 1 Least squares and linear basis functions models\n",
    "## 1.1 Least squares"
   ]
  },
  {
   "cell_type": "code",
<<<<<<< HEAD
   "execution_count": 53,
   "metadata": {
    "tags": []
   },
=======
   "execution_count": null,
   "metadata": {},
>>>>>>> e9f33c29954c1c6f205c4664331ef2ddcecad5ff
   "outputs": [],
   "source": [
    "def least_squares(y, tx):\n",
    "    \"\"\"calculate the least squares solution.\"\"\"\n",
    "    # ***************************************************\n",
    "    # INSERT YOUR CODE HERE\n",
    "    # least squares: TODO\n",
    "    # returns mse, and optimal weights\n",
    "    # ***************************************************\n",
    "    \n",
    "    tx_t = np.transpose(tx)\n",
    "    a = tx_t.dot(tx)\n",
    "    b = tx_t.dot(y)\n",
    "    \n",
    "    w = np.linalg.solve(a,b)\n",
    "    \n",
    "    return w, costs.compute_loss_mse(y, tx, w)"
   ]
  },
  {
   "cell_type": "markdown",
   "metadata": {},
   "source": [
    "### Load the data\n",
    "Here we will reuse the dataset `height_weight_genders.csv` from previous exercise section to check the correctness of your implementation. Please compare it with your previous result."
   ]
  },
  {
   "cell_type": "code",
<<<<<<< HEAD
   "execution_count": 54,
=======
   "execution_count": null,
>>>>>>> e9f33c29954c1c6f205c4664331ef2ddcecad5ff
   "metadata": {},
   "outputs": [],
   "source": [
    "from helpers import *\n",
    "import grid_search as gs\n",
    "\n",
    "def test_your_least_squares():\n",
    "    height, weight, gender = load_data(sub_sample=False, add_outlier=False)\n",
    "    x, mean_x, std_x = standardize(height)\n",
    "    y, tx = build_model_data(x, weight)\n",
    "    # ***************************************************\n",
    "    # INSERT YOUR CODE HERE\n",
    "    # least square or grid search: TODO\n",
    "    # this code should compare the optimal weights obtained \n",
    "    # by least squares vs. grid search\n",
    "    # ***************************************************\n",
    "    \n",
    "    print(least_squares(y,tx))\n",
    "    \n",
    "    # Generate the grid of parameters to be swept\n",
    "    grid_w0, grid_w1 = gs.generate_w(num_intervals=50)\n",
    "\n",
    "    grid_losses = gs.grid_search_mse(y, tx, grid_w0, grid_w1)\n",
    "\n",
    "    # Select the best combinaison\n",
    "    loss_star, w0_star, w1_star = gs.get_best_parameters(grid_w0, grid_w1, grid_losses)\n",
    "    \n",
    "    print(np.array([w0_star,w1_star]), loss_star)"
   ]
  },
  {
   "cell_type": "markdown",
   "metadata": {},
   "source": [
    "Test it here"
   ]
  },
  {
   "cell_type": "code",
<<<<<<< HEAD
   "execution_count": 55,
   "metadata": {},
   "outputs": [
    {
     "name": "stdout",
     "output_type": "stream",
     "text": [
      "(array([73.293922  , 13.47971243]), 15.385887868829402)\n",
      "[71.42857143 15.30612245] 18.79354101952324\n"
     ]
    }
   ],
=======
   "execution_count": null,
   "metadata": {},
   "outputs": [],
>>>>>>> e9f33c29954c1c6f205c4664331ef2ddcecad5ff
   "source": [
    "test_your_least_squares()"
   ]
  },
  {
   "cell_type": "markdown",
   "metadata": {},
   "source": [
    "## 1.2 Least squares with a linear basis function model\n",
    "Start from this section, we will use the dataset `dataEx3.csv`.\n",
    "\n",
    "### Implement polynomial basis functions"
   ]
  },
  {
   "cell_type": "code",
   "execution_count": 56,
   "metadata": {
    "scrolled": true
   },
   "outputs": [
    {
     "name": "stdout",
     "output_type": "stream",
     "text": [
      "shape of x (50,)\n",
      "shape of y (50,)\n"
     ]
    }
   ],
   "source": [
    "# load dataset\n",
    "def load_data():\n",
    "    \"\"\"load data.\"\"\"\n",
    "    data = np.loadtxt(\"dataEx3.csv\", delimiter=\",\", skiprows=1, unpack=True)\n",
    "    x = data[0]\n",
    "    y = data[1]\n",
    "    return x, y\n",
    "\n",
    "x, y = load_data()\n",
    "print(\"shape of x {}\".format(x.shape))\n",
    "print(\"shape of y {}\".format(y.shape))"
   ]
  },
  {
   "cell_type": "code",
<<<<<<< HEAD
   "execution_count": 57,
   "metadata": {
    "tags": []
   },
=======
   "execution_count": null,
   "metadata": {},
>>>>>>> e9f33c29954c1c6f205c4664331ef2ddcecad5ff
   "outputs": [],
   "source": [
    "def build_poly(x, degree):\n",
    "    \"\"\"polynomial basis functions for input data x, for j=0 up to j=degree.\"\"\"\n",
    "    # ***************************************************\n",
    "    # INSERT YOUR CODE HERE\n",
    "    # polynomial basis function: TODO\n",
    "    # this function should return the matrix formed\n",
    "    # by applying the polynomial basis to the input data\n",
    "    # ***************************************************\n",
    "    \n",
    "    x_poly = np.zeros((len(x), degree + 1))\n",
    "    \n",
    "    power = np.ones(len(x))\n",
    "    for i in range(degree + 1):\n",
    "        x_poly[:, i] = power\n",
    "        power = power*x\n",
    "    return x_poly\n",
    "\n",
    "#print(build_poly(np.array([1,2,3]), 2))"
   ]
  },
  {
   "cell_type": "markdown",
   "metadata": {},
   "source": [
    "Let us play with polynomial regression. Note that we will use your implemented function `compute_mse`. Please copy and paste your implementation from exercise02."
   ]
  },
  {
   "cell_type": "code",
<<<<<<< HEAD
   "execution_count": 58,
   "metadata": {
    "tags": []
   },
=======
   "execution_count": null,
   "metadata": {},
>>>>>>> e9f33c29954c1c6f205c4664331ef2ddcecad5ff
   "outputs": [],
   "source": [
    "from plots import *\n",
    "\n",
    "def polynomial_regression(x, y):\n",
    "    \"\"\"Constructing the polynomial basis function expansion of the data,\n",
    "       and then running least squares regression.\"\"\"\n",
    "    # define parameters\n",
    "    degrees = [1, 3, 7, 50]\n",
    "    \n",
    "    # define the structure of the figure\n",
    "    num_row = 2\n",
    "    num_col = 2\n",
    "    f, axs = plt.subplots(num_row, num_col)\n",
    "\n",
    "    for ind, degree in enumerate(degrees):\n",
    "        x_poly = build_poly(x, degree)\n",
    "        weights, mse = least_squares(y, x_poly)\n",
    "        \n",
    "        rmse = np.sqrt(2*mse)\n",
    "\n",
    "        print(\"Processing {i}th experiment, degree={d}, rmse={loss}\".format(\n",
    "              i=ind + 1, d=degree, loss=rmse))\n",
    "        # plot fit\n",
    "        plot_fitted_curve(\n",
    "            y, x, weights, degree, axs[ind // num_col][ind % num_col])\n",
    "    plt.tight_layout()\n",
    "    plt.savefig(\"visualize_polynomial_regression\")\n",
    "    plt.show()"
   ]
  },
  {
   "cell_type": "markdown",
   "metadata": {},
   "source": [
    "Run polynomial regression"
   ]
  },
  {
   "cell_type": "code",
<<<<<<< HEAD
   "execution_count": 60,
   "metadata": {},
   "outputs": [
    {
     "name": "stdout",
     "output_type": "stream",
     "text": [
      "Processing 1th experiment, degree=1, rmse=0.47187607963421874\n",
      "Processing 2th experiment, degree=3, rmse=0.25858277667737484\n",
      "Processing 3th experiment, degree=7, rmse=0.2496587036090758\n",
      "Processing 4th experiment, degree=50, rmse=0.22472131459201505\n"
     ]
    },
    {
     "data": {
      "image/png": "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\n",
      "text/plain": [
       "<Figure size 432x288 with 4 Axes>"
      ]
     },
     "metadata": {
      "needs_background": "light"
     },
     "output_type": "display_data"
    }
   ],
=======
   "execution_count": null,
   "metadata": {},
   "outputs": [],
>>>>>>> e9f33c29954c1c6f205c4664331ef2ddcecad5ff
   "source": [
    "def plot_fitted_curve(y, x, weights, degree, ax):\n",
    "    \"\"\"plot the fitted curve.\"\"\"\n",
    "    ax.scatter(x, y, color='b', s=12, facecolors='none', edgecolors='r')\n",
    "    xvals = np.arange(min(x) - 0.1, max(x) + 0.1, 0.1)\n",
    "    tx = build_poly(xvals, degree)\n",
    "    f = tx.dot(weights)\n",
    "    ax.plot(xvals, f)\n",
    "    ax.set_xlabel(\"x\")\n",
    "    ax.set_ylabel(\"y\")\n",
    "    ax.set_title(\"Polynomial degree \" + str(degree))\n",
    "\n",
    "def plot_train_test(train_errors, test_errors, lambdas, degree):\n",
    "    \"\"\"\n",
    "    train_errors, test_errors and lambas should be list (of the same size) the respective train error and test error for a given lambda,\n",
    "    * lambda[0] = 1\n",
    "    * train_errors[0] = RMSE of a ridge regression on the train set\n",
    "    * test_errors[0] = RMSE of the parameter found by ridge regression applied on the test set\n",
    "    \n",
    "    degree is just used for the title of the plot.\n",
    "    \"\"\"\n",
    "    plt.semilogx(lambdas, train_errors, color='b', marker='*', label=\"Train error\")\n",
    "    plt.semilogx(lambdas, test_errors, color='r', marker='*', label=\"Test error\")\n",
    "    plt.xlabel(\"lambda\")\n",
    "    plt.ylabel(\"RMSE\")\n",
    "    plt.title(\"Ridge regression for polynomial degree \" + str(degree))\n",
    "    leg = plt.legend(loc=1, shadow=True)\n",
    "    leg.draw_frame(False)\n",
    "    plt.savefig(\"ridge_regression\")\n",
    "\n",
    "polynomial_regression(x,y)"
   ]
  },
  {
   "cell_type": "markdown",
   "metadata": {},
   "source": [
    "# 2 Evaluating model predication performance\n",
    "\n",
    "\n",
    "Let us show the train and test splits for various polynomial degrees. First of all, please fill in the function `split_data()`"
   ]
  },
  {
   "cell_type": "code",
<<<<<<< HEAD
   "execution_count": 61,
   "metadata": {
    "tags": []
   },
=======
   "execution_count": null,
   "metadata": {},
>>>>>>> e9f33c29954c1c6f205c4664331ef2ddcecad5ff
   "outputs": [],
   "source": [
    "def split_data(x, y, ratio, seed=1):\n",
    "    \"\"\"\n",
    "    split the dataset based on the split ratio. If ratio is 0.8 \n",
    "    you will have 80% of your data set dedicated to training \n",
    "    and the rest dedicated to testing\n",
    "    \"\"\"\n",
    "    # set seed\n",
    "    np.random.seed(seed)\n",
    "    # ***************************************************\n",
    "    # INSERT YOUR CODE HERE\n",
    "    # split the data based on the given ratio: TODO\n",
    "    # ***************************************************\n",
    "    \n",
    "    train_indices = list(filter(lambda e: e != -1, [i if np.random.uniform() <= ratio else -1 for i in range(len(y))]))\n",
    "    test_indices = list(set(range(len(y))).difference(set(train_indices)))\n",
    "    \n",
    "    train_x = x[train_indices]\n",
    "    test_x = x[test_indices]\n",
    "    train_y = y[train_indices]\n",
    "    test_y = y[test_indices]\n",
    "    \n",
    "    return train_x, train_y, test_x, test_y"
   ]
  },
  {
   "cell_type": "markdown",
   "metadata": {},
   "source": [
    "Then, test your `split_data` function below."
   ]
  },
  {
   "cell_type": "code",
<<<<<<< HEAD
   "execution_count": 66,
   "metadata": {
    "tags": []
   },
=======
   "execution_count": null,
   "metadata": {},
>>>>>>> e9f33c29954c1c6f205c4664331ef2ddcecad5ff
   "outputs": [],
   "source": [
    "def train_test_split_demo(x, y, degree, ratio, seed):\n",
    "    \"\"\"polynomial regression with different split ratios and different degrees.\"\"\"\n",
    "    # ***************************************************\n",
    "    # INSERT YOUR CODE HERE\n",
    "    # split the data, and return train and test data: TODO\n",
    "    # ***************************************************\n",
    "    \n",
    "    train_x, train_y, test_x, test_y = split_data(x, y, ratio, seed)\n",
    "    \n",
    "    # ***************************************************\n",
    "    # INSERT YOUR CODE HERE\n",
    "    # form train and test data with polynomial basis function: TODO\n",
    "    # ***************************************************\n",
    "    \n",
    "    xp_tr = build_poly(train_x, degree)\n",
    "    xp_te = build_poly(test_x, degree)\n",
    "    \n",
    "    # ***************************************************\n",
    "    # INSERT YOUR CODE HERE\n",
    "    # calculate weight through least square: TODO\n",
    "    # ***************************************************\n",
    "    \n",
    "    w, mse_tr = least_squares(train_y, xp_tr)\n",
    "    \n",
    "    # ***************************************************\n",
    "    # INSERT YOUR CODE HERE\n",
    "    # calculate RMSE for train and test data,\n",
    "    # and store them in rmse_tr and rmse_te respectively: TODO\n",
    "    # ***************************************************\n",
    "    \n",
    "    rmse_tr = np.sqrt(2*mse_tr)\n",
    "    rmse_te = np.sqrt(2*costs.compute_loss_mse(test_y, xp_te, w))\n",
    "    \n",
    "    print(\"proportion={p}, degree={d}, Training RMSE={tr:.3f}, Testing RMSE={te:.3f}\".format(\n",
    "          p=ratio, d=degree, tr=rmse_tr, te=rmse_te))\n"
   ]
  },
  {
   "cell_type": "code",
<<<<<<< HEAD
   "execution_count": 67,
   "metadata": {
    "tags": []
   },
   "outputs": [
    {
     "name": "stdout",
     "output_type": "stream",
     "text": [
      "proportion=0.9, degree=1, Training RMSE=0.478, Testing RMSE=0.424\n",
      "proportion=0.9, degree=3, Training RMSE=0.263, Testing RMSE=0.226\n",
      "proportion=0.9, degree=7, Training RMSE=0.249, Testing RMSE=0.286\n",
      "proportion=0.9, degree=12, Training RMSE=0.238, Testing RMSE=0.313\n",
      "proportion=0.5, degree=1, Training RMSE=0.502, Testing RMSE=0.466\n",
      "proportion=0.5, degree=3, Training RMSE=0.196, Testing RMSE=0.349\n",
      "proportion=0.5, degree=7, Training RMSE=0.186, Testing RMSE=1.282\n",
      "proportion=0.5, degree=12, Training RMSE=0.177, Testing RMSE=11.621\n",
      "proportion=0.1, degree=1, Training RMSE=0.128, Testing RMSE=0.643\n",
      "proportion=0.1, degree=3, Training RMSE=0.000, Testing RMSE=4.331\n",
      "proportion=0.1, degree=7, Training RMSE=0.000, Testing RMSE=4.747\n",
      "proportion=0.1, degree=12, Training RMSE=0.000, Testing RMSE=9.608\n"
     ]
    }
   ],
=======
   "execution_count": null,
   "metadata": {},
   "outputs": [],
>>>>>>> e9f33c29954c1c6f205c4664331ef2ddcecad5ff
   "source": [
    "seed = 6\n",
    "degrees = [1, 3, 7, 12]\n",
    "split_ratios = [0.9, 0.5, 0.1]\n",
    "\n",
    "for split_ratio in split_ratios:\n",
    "    for degree in degrees:\n",
    "        train_test_split_demo(x, y, degree, split_ratio, seed)"
   ]
  },
  {
   "cell_type": "markdown",
   "metadata": {},
   "source": [
    "# 3 Ridge Regression\n",
    "Please fill in the function below."
   ]
  },
  {
   "cell_type": "code",
<<<<<<< HEAD
   "execution_count": 79,
   "metadata": {
    "tags": []
   },
=======
   "execution_count": null,
   "metadata": {},
>>>>>>> e9f33c29954c1c6f205c4664331ef2ddcecad5ff
   "outputs": [],
   "source": [
    "def ridge_regression(y, tx, lambda_):\n",
    "    \"\"\"implement ridge regression.\"\"\"\n",
    "    # ***************************************************\n",
    "    # INSERT YOUR CODE HERE\n",
    "    # ridge regression: TODO\n",
    "    # ***************************************************\n",
    "    \n",
    "    tx_t = np.transpose(tx)\n",
    "    a = tx_t.dot(tx) + lambda_/(2*len(y)) * np.identity(tx.shape[1])\n",
    "    b = tx_t.dot(y)\n",
    "    \n",
    "    w = np.linalg.solve(a,b)\n",
    "    \n",
    "    return w, np.sqrt(2*costs.compute_loss_mse(y, tx, w))"
   ]
  },
  {
   "cell_type": "code",
<<<<<<< HEAD
   "execution_count": 82,
   "metadata": {
    "tags": []
   },
=======
   "execution_count": null,
   "metadata": {},
>>>>>>> e9f33c29954c1c6f205c4664331ef2ddcecad5ff
   "outputs": [],
   "source": [
    "def ridge_regression_demo(x, y, degree, ratio, seed):\n",
    "    \"\"\"ridge regression demo.\"\"\"\n",
    "    # define parameter\n",
    "    lambdas = np.logspace(-5, 0, 15)\n",
    "    # ***************************************************\n",
    "    # INSERT YOUR CODE HERE\n",
    "    # split the data, and return train and test data: TODO\n",
    "    # ***************************************************\n",
    "    \n",
    "    train_x, train_y, test_x, test_y = split_data(x, y, ratio, seed)\n",
    "    \n",
    "    # ***************************************************\n",
    "    # INSERT YOUR CODE HERE\n",
    "    # form train and test data with polynomial basis function: TODO\n",
    "    # ***************************************************\n",
    "    \n",
    "    xp_tr = build_poly(train_x, degree)\n",
    "    xp_te = build_poly(test_x, degree)\n",
    "\n",
    "    rmse_tr = []\n",
    "    rmse_te = []\n",
    "    for ind, lambda_ in enumerate(lambdas):\n",
    "        # ***************************************************\n",
    "        # INSERT YOUR CODE HERE\n",
    "        # ridge regression with a given lambda\n",
    "        # ***************************************************\n",
    "        \n",
    "        w, rmse_tr_temp = ridge_regression(train_y, xp_tr, lambda_)\n",
    "        rmse_te_temp = np.sqrt(2*costs.compute_loss_mse(test_y, xp_te, w))\n",
    "        \n",
    "        rmse_tr.append(rmse_tr_temp)\n",
    "        rmse_te.append(rmse_te_temp)\n",
    "        \n",
    "        print(\"proportion={p}, degree={d}, lambda={l:.3f}, Training RMSE={tr:.3f}, Testing RMSE={te:.3f}\".format(\n",
    "               p=ratio, d=degree, l=lambda_, tr=rmse_tr[ind], te=rmse_te[ind]))\n",
    "        \n",
    "    # Plot the obtained results\n",
    "    plot_train_test(rmse_tr, rmse_te, lambdas, degree)\n"
   ]
  },
  {
   "cell_type": "code",
<<<<<<< HEAD
   "execution_count": 83,
   "metadata": {
    "tags": []
   },
   "outputs": [
    {
     "name": "stdout",
     "output_type": "stream",
     "text": [
      "proportion=0.5, degree=7, lambda=0.000, Training RMSE=0.167, Testing RMSE=0.379\n",
      "proportion=0.5, degree=7, lambda=0.000, Training RMSE=0.167, Testing RMSE=0.379\n",
      "proportion=0.5, degree=7, lambda=0.000, Training RMSE=0.167, Testing RMSE=0.379\n",
      "proportion=0.5, degree=7, lambda=0.000, Training RMSE=0.167, Testing RMSE=0.379\n",
      "proportion=0.5, degree=7, lambda=0.000, Training RMSE=0.167, Testing RMSE=0.379\n",
      "proportion=0.5, degree=7, lambda=0.001, Training RMSE=0.167, Testing RMSE=0.379\n",
      "proportion=0.5, degree=7, lambda=0.001, Training RMSE=0.167, Testing RMSE=0.379\n",
      "proportion=0.5, degree=7, lambda=0.003, Training RMSE=0.167, Testing RMSE=0.379\n",
      "proportion=0.5, degree=7, lambda=0.007, Training RMSE=0.167, Testing RMSE=0.380\n",
      "proportion=0.5, degree=7, lambda=0.016, Training RMSE=0.167, Testing RMSE=0.381\n",
      "proportion=0.5, degree=7, lambda=0.037, Training RMSE=0.167, Testing RMSE=0.382\n",
      "proportion=0.5, degree=7, lambda=0.085, Training RMSE=0.167, Testing RMSE=0.384\n",
      "proportion=0.5, degree=7, lambda=0.193, Training RMSE=0.168, Testing RMSE=0.386\n",
      "proportion=0.5, degree=7, lambda=0.439, Training RMSE=0.168, Testing RMSE=0.387\n",
      "proportion=0.5, degree=7, lambda=1.000, Training RMSE=0.168, Testing RMSE=0.389\n"
     ]
    },
    {
     "data": {
      "image/png": "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\n",
      "text/plain": [
       "<Figure size 432x288 with 1 Axes>"
      ]
     },
     "metadata": {
      "needs_background": "light"
     },
     "output_type": "display_data"
    }
   ],
=======
   "execution_count": null,
   "metadata": {},
   "outputs": [],
>>>>>>> e9f33c29954c1c6f205c4664331ef2ddcecad5ff
   "source": [
    "seed = 56\n",
    "degree = 7\n",
    "split_ratio = 0.5\n",
    "ridge_regression_demo(x, y, degree, split_ratio, seed)"
   ]
  },
  {
   "cell_type": "code",
   "execution_count": null,
   "metadata": {},
   "outputs": [],
   "source": []
  },
  {
   "cell_type": "code",
   "execution_count": null,
   "metadata": {},
   "outputs": [],
   "source": []
  }
 ],
 "metadata": {
  "anaconda-cloud": {},
  "kernelspec": {
   "display_name": "Python",
   "language": "python",
   "name": "python3"
  },
  "language_info": {
   "codemirror_mode": {
    "name": "ipython",
    "version": 3
   },
   "file_extension": ".py",
   "mimetype": "text/x-python",
   "name": "python",
   "nbconvert_exporter": "python",
   "pygments_lexer": "ipython3",
<<<<<<< HEAD
   "version": "3.8.10"
=======
   "version": "3.8.8"
>>>>>>> e9f33c29954c1c6f205c4664331ef2ddcecad5ff
  }
 },
 "nbformat": 4,
 "nbformat_minor": 4
}
